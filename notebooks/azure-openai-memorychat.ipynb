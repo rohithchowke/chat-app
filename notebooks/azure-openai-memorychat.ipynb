{
 "cells": [
  {
   "cell_type": "code",
   "execution_count": 32,
   "metadata": {},
   "outputs": [],
   "source": [
    "import os\n",
    "from pathlib import Path\n",
    "from dotenv import load_dotenv\n",
    "from openai import AzureOpenAI\n",
    "import argparse\n",
    "import sys"
   ]
  },
  {
   "cell_type": "code",
   "execution_count": 33,
   "metadata": {},
   "outputs": [],
   "source": [
    "ENV_DIR = Path().absolute().parent / \".env\"\n",
    "DEV_ENV_FILE_PATH = ENV_DIR / \"dev.env\"\n",
    "#using os change the directory"
   ]
  },
  {
   "cell_type": "code",
   "execution_count": 26,
   "metadata": {},
   "outputs": [
    {
     "data": {
      "text/plain": [
       "True"
      ]
     },
     "execution_count": 26,
     "metadata": {},
     "output_type": "execute_result"
    }
   ],
   "source": [
    "load_dotenv(DEV_ENV_FILE_PATH, override=True)"
   ]
  },
  {
   "cell_type": "code",
   "execution_count": 27,
   "metadata": {},
   "outputs": [],
   "source": [
    "def initialize_client():\n",
    "    try:\n",
    "        azure_endpoint = os.environ[\"AZURE_OPENAI_ENDPOINT_SLN\"]\n",
    "        api_key = os.environ[\"AZURE_OPENAI_API_KEY_SLN\"]\n",
    "        api_version = os.environ[\"AZURE_OPENAI_API_VERSION\"]\n",
    "    except KeyError as e:\n",
    "        raise KeyError(f\"Environment variable {e} not found. Please check your .env file.\")\n",
    "\n",
    "    return AzureOpenAI(\n",
    "        azure_endpoint=azure_endpoint,\n",
    "        api_key=api_key,\n",
    "        api_version=api_version,\n",
    "    )"
   ]
  },
  {
   "cell_type": "code",
   "execution_count": 28,
   "metadata": {},
   "outputs": [],
   "source": [
    "base_messages = [\n",
    "    {\"role\": \"system\", \"content\": \"You are an AI assistant. Help user with the query.\"},\n",
    "]"
   ]
  },
  {
   "cell_type": "code",
   "execution_count": 29,
   "metadata": {},
   "outputs": [],
   "source": [
    "def chat_with_ai(client, query, messages):\n",
    "    prompt = f\"User query: {query}\"\n",
    "    messages.append({\"role\": \"user\", \"content\": query})\n",
    "\n",
    "    try:\n",
    "        response = client.chat.completions.create(\n",
    "            model=os.environ[\"AZURE_OPENAI_DEPLOYMENT_NAME_SLN\"],\n",
    "            messages=messages,\n",
    "            temperature=0.7,\n",
    "            max_tokens=1000,\n",
    "            top_p=1,\n",
    "            frequency_penalty=0,\n",
    "            presence_penalty=0,\n",
    "        )\n",
    "        response_content = response.choices[0].message.content\n",
    "        print(\"=== Input Prompt ===\")\n",
    "        print(prompt)\n",
    "        print(\"=== Generated Response ===\")\n",
    "        print(response_content)\n",
    "\n",
    "        # Add assistant's response to the message history\n",
    "        messages.append({\"role\": \"assistant\", \"content\": response_content})\n",
    "\n",
    "    except Exception as e:\n",
    "        print(f\"An error occurred: {e}\")"
   ]
  },
  {
   "cell_type": "code",
   "execution_count": 30,
   "metadata": {},
   "outputs": [],
   "source": [
    "def main():\n",
    "    parser = argparse.ArgumentParser(description=\"Azure OpenAI CLI Chat Application\")\n",
    "    parser.add_argument('--query', type=str, help='User query for chat completion')\n",
    "    args, unknown = parser.parse_known_args()\n",
    "\n",
    "    client = initialize_client()\n",
    "    messages = base_messages.copy()\n",
    "\n",
    "    if args.query:\n",
    "        chat_with_ai(client, args.query, messages)\n",
    "    else:\n",
    "        while True:\n",
    "            query = input(\"Enter your query (type 'exit' to quit): \")\n",
    "            if query.lower() == 'exit':\n",
    "                break\n",
    "            chat_with_ai(client, query, messages)"
   ]
  },
  {
   "cell_type": "code",
   "execution_count": 31,
   "metadata": {},
   "outputs": [
    {
     "name": "stdout",
     "output_type": "stream",
     "text": [
      "=== Input Prompt ===\n",
      "User query: hi\n",
      "=== Generated Response ===\n",
      "Hello! How can I assist you today?\n",
      "=== Input Prompt ===\n",
      "User query: im rohith\n",
      "=== Generated Response ===\n",
      "Hi Rohith! It's nice to meet you. How can I help you today?\n",
      "=== Input Prompt ===\n",
      "User query: \n",
      "=== Generated Response ===\n",
      "It looks like your message might have been cut off. How can I assist you today, Rohith?\n",
      "=== Input Prompt ===\n",
      "User query: can you tell my name?\n",
      "=== Generated Response ===\n",
      "Yes, you mentioned that your name is Rohith. How can I assist you further?\n"
     ]
    }
   ],
   "source": [
    "if __name__ == \"__main__\":\n",
    "    main()"
   ]
  }
 ],
 "metadata": {
  "kernelspec": {
   "display_name": "venv",
   "language": "python",
   "name": "python3"
  },
  "language_info": {
   "codemirror_mode": {
    "name": "ipython",
    "version": 3
   },
   "file_extension": ".py",
   "mimetype": "text/x-python",
   "name": "python",
   "nbconvert_exporter": "python",
   "pygments_lexer": "ipython3",
   "version": "3.11.9"
  }
 },
 "nbformat": 4,
 "nbformat_minor": 2
}
