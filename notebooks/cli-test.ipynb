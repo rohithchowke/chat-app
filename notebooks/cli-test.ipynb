{
 "cells": [
  {
   "cell_type": "code",
   "execution_count": 1,
   "metadata": {},
   "outputs": [
    {
     "name": "stdout",
     "output_type": "stream",
     "text": [
      "c:\\Users\\ROHITCH1\\OneDrive - Novartis Pharma AG\\Desktop\\VanillaApp\\.env\\dev.env\n",
      "Chat completion response:\n",
      "Hello! How can I assist you today?\n",
      "Chat completion response:\n",
      "Hello! How can I assist you today?\n"
     ]
    }
   ],
   "source": [
    "import os\n",
    "from pathlib import Path\n",
    "from dotenv import load_dotenv\n",
    "from openai import AzureOpenAI\n",
    "import argparse\n",
    "import sys\n",
    "ENV_DIR = Path().absolute().parent / \".env\"\n",
    "DEV_ENV_FILE_PATH = ENV_DIR / \"dev.env\"\n",
    "load_dotenv(DEV_ENV_FILE_PATH, override=True)\n",
    "print(DEV_ENV_FILE_PATH)\n",
    "# Function to initialize the Azure OpenAI client\n",
    "def initialize_client():\n",
    "    return AzureOpenAI(\n",
    "        azure_endpoint=os.environ[\"AZURE_OPENAI_ENDPOINT_SLN\"],\n",
    "        api_key=os.environ[\"AZURE_OPENAI_API_KEY_SLN\"],\n",
    "        api_version=os.environ[\"AZURE_OPENAI_API_VERSION\"],\n",
    "    )\n",
    "base_messages = [\n",
    "    {\"role\": \"system\", \"content\": \"You are an AI assistant. Help user with the query.\"},\n",
    "]\n",
    "# Function to interact with the Azure OpenAI API\n",
    "def chat_with_ai(client, query):\n",
    "    messages = base_messages.copy()\n",
    "    messages.append({\"role\": \"user\", \"content\": query})\n",
    "\n",
    "    try:\n",
    "        response = client.chat.completions.create(\n",
    "            model=os.environ[\"AZURE_OPENAI_DEPLOYMENT_NAME_SLN\"],\n",
    "            messages=messages,\n",
    "            temperature=0.7,\n",
    "            max_tokens=1000,\n",
    "            top_p=1,\n",
    "            frequency_penalty=0,\n",
    "            presence_penalty=0,\n",
    "        )\n",
    "        response_content = response.choices[0].message.content\n",
    "        print(\"Chat completion response:\")\n",
    "        print(response_content)\n",
    "\n",
    "    except Exception as e:\n",
    "        print(f\"An error occurred: {e}\")\n",
    "def main():\n",
    "    parser = argparse.ArgumentParser(description=\"Azure OpenAI CLI Chat Application\")\n",
    "    parser.add_argument('--query', type=str, help='User query for chat completion')\n",
    "    args, unknown = parser.parse_known_args()\n",
    "\n",
    "    client = initialize_client()\n",
    "\n",
    "    if args.query:\n",
    "        chat_with_ai(client, args.query)\n",
    "    else:\n",
    "        while True:\n",
    "            query = input(\"Enter your query (type 'exit' to quit): \")\n",
    "            if query.lower() == 'exit':\n",
    "                break\n",
    "            chat_with_ai(client, query)\n",
    "\n",
    "if __name__ == \"__main__\":\n",
    "    if not any(arg.startswith('--query') for arg in sys.argv):\n",
    "        sys.argv += ['--query', '']\n",
    "    main()"
   ]
  }
 ],
 "metadata": {
  "kernelspec": {
   "display_name": "venv",
   "language": "python",
   "name": "python3"
  },
  "language_info": {
   "codemirror_mode": {
    "name": "ipython",
    "version": 3
   },
   "file_extension": ".py",
   "mimetype": "text/x-python",
   "name": "python",
   "nbconvert_exporter": "python",
   "pygments_lexer": "ipython3",
   "version": "3.11.9"
  }
 },
 "nbformat": 4,
 "nbformat_minor": 2
}
