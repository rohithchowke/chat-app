{
 "cells": [
  {
   "cell_type": "code",
   "execution_count": 1,
   "metadata": {},
   "outputs": [],
   "source": [
    "import os\n",
    "from pathlib import Path\n",
    "from dotenv import load_dotenv\n",
    "from openai import AzureOpenAI"
   ]
  },
  {
   "cell_type": "code",
   "execution_count": 3,
   "metadata": {},
   "outputs": [
    {
     "data": {
      "text/plain": [
       "True"
      ]
     },
     "execution_count": 3,
     "metadata": {},
     "output_type": "execute_result"
    }
   ],
   "source": [
    "ENV_DIR = Path().absolute().parent / \".env\"\n",
    "DEV_ENV_FILE_PATH = ENV_DIR / \"dev.env\"\n",
    "load_dotenv(DEV_ENV_FILE_PATH, override=True)"
   ]
  },
  {
   "cell_type": "code",
   "execution_count": 4,
   "metadata": {},
   "outputs": [],
   "source": [
    "def initialize_client():\n",
    "    try:\n",
    "        azure_endpoint = os.environ[\"AZURE_OPENAI_ENDPOINT_SLN\"]\n",
    "        api_key = os.environ[\"AZURE_OPENAI_API_KEY_SLN\"]\n",
    "        api_version = os.environ[\"AZURE_OPENAI_API_VERSION\"]\n",
    "    except KeyError as e:\n",
    "        raise KeyError(f\"Environment variable {e} not found. Please check your .env file.\")\n",
    "\n",
    "    return AzureOpenAI(\n",
    "        azure_endpoint=azure_endpoint,\n",
    "        api_key=api_key,\n",
    "        api_version=api_version,\n",
    "    )"
   ]
  },
  {
   "cell_type": "code",
   "execution_count": 5,
   "metadata": {},
   "outputs": [],
   "source": [
    "base_messages = [\n",
    "    {\"role\": \"system\", \"content\": \"You are an AI assistant. Help user with the query.\"},\n",
    "]\n"
   ]
  },
  {
   "cell_type": "code",
   "execution_count": 6,
   "metadata": {},
   "outputs": [],
   "source": [
    "def chat_with_ai(client, query, messages):\n",
    "    messages.append({\"role\": \"user\", \"content\": query})\n",
    "\n",
    "    try:\n",
    "        response = client.chat.completions.create(\n",
    "            model=os.environ[\"AZURE_OPENAI_DEPLOYMENT_NAME_SLN\"],\n",
    "            messages=messages,\n",
    "            temperature=0.7,\n",
    "            max_tokens=1000,\n",
    "            top_p=1,\n",
    "            frequency_penalty=0,\n",
    "            presence_penalty=0,\n",
    "        )\n",
    "        response_content = response.choices[0].message.content\n",
    "        print(\"Generated Response:\")\n",
    "        print(response_content)\n",
    "\n",
    "        # Add assistant's response to the message history\n",
    "        messages.append({\"role\": \"assistant\", \"content\": response_content})\n",
    "\n",
    "    except Exception as e:\n",
    "        print(f\"An error occurred: {e}\")\n",
    "\n",
    "client = initialize_client()\n",
    "messages = base_messages.copy()"
   ]
  },
  {
   "cell_type": "code",
   "execution_count": 7,
   "metadata": {},
   "outputs": [],
   "source": [
    "def interact_with_ai():\n",
    "    global messages\n",
    "    while True:\n",
    "        query = input(\"Enter your query (or type 'exit' to quit): \").strip()\n",
    "        if query.lower() == 'exit':\n",
    "            break\n",
    "\n",
    "        chat_with_ai(client, query, messages)\n",
    "\n",
    "        # Keep only the last 5 exchanges (10 messages: 5 user + 5 assistant)\n",
    "        messages = messages[-10:]"
   ]
  },
  {
   "cell_type": "code",
   "execution_count": 9,
   "metadata": {},
   "outputs": [
    {
     "name": "stdout",
     "output_type": "stream",
     "text": [
      "Generated Response:\n",
      "Hello, Rohith! Nice to meet you. How can I assist you today?\n",
      "Generated Response:\n",
      "Yes, you mentioned that your name is Rohith. How can I assist you further?\n",
      "Generated Response:\n",
      "Certainly, Rohith! Cheese can offer several nutritional and health benefits when consumed in moderation. Here are some of the key benefits of cheese:\n",
      "\n",
      "### Nutritional Benefits\n",
      "1. **Rich in Calcium**: Cheese is an excellent source of calcium, which is essential for strong bones and teeth, as well as for nerve function and muscle contraction.\n",
      "\n",
      "2. **High in Protein**: Cheese provides a good amount of high-quality protein, which is crucial for building and repairing tissues, producing enzymes and hormones, and supporting overall growth and development.\n",
      "\n",
      "3. **Vitamins and Minerals**: Cheese contains essential vitamins and minerals, such as:\n",
      "   - **Vitamin A**: Important for vision, immune function, and skin health.\n",
      "   - **Vitamin B12**: Crucial for nerve function and the production of red blood cells.\n",
      "   - **Zinc**: Supports immune function, wound healing, and DNA synthesis.\n",
      "   - **Phosphorus**: Works with calcium to maintain bone health and is important for energy production.\n",
      "\n",
      "4. **Healthy Fats**: Cheese contains fats that are important for energy, the absorption of fat-soluble vitamins, and the production of cell membranes and hormones.\n",
      "\n",
      "### Health Benefits\n",
      "1. **Bone Health**: The calcium, phosphorus, and protein in cheese contribute to maintaining strong bones and preventing conditions like osteoporosis.\n",
      "\n",
      "2. **Heart Health**: Some studies suggest that the consumption of dairy products, including cheese, may be associated with a lower risk of cardiovascular disease. However, it's important to choose cheeses that are lower in saturated fat and sodium for heart health.\n",
      "\n",
      "3. **Dental Health**: Cheese can help reduce the risk of dental cavities by increasing saliva production, which helps neutralize acids in the mouth and remineralize tooth enamel.\n",
      "\n",
      "4. **Weight Management**: The protein and fat content in cheese can promote feelings of fullness and satiety, potentially helping with weight management when included as part of a balanced diet.\n",
      "\n",
      "5. **Gut Health**: Some cheeses, particularly those that are fermented, contain probiotics that can support a healthy gut microbiome, which is important for digestion and overall health.\n",
      "\n",
      "6. **Muscle Health**: The high-quality protein in cheese aids in muscle repair and growth, making it a beneficial food for those who are physically active.\n",
      "\n",
      "### Cautions\n",
      "While cheese has many benefits, it's important to consume it in moderation due to its calorie density, as well as its fat and sodium content. People with lactose intolerance or dairy allergies should choose lactose-free or plant-based cheese alternatives.\n",
      "\n",
      "### Conclusion\n",
      "Incorporating cheese into your diet can provide a variety of nutrients and health benefits. As with any food, variety and moderation are key to enjoying its benefits while maintaining a balanced diet.\n",
      "\n",
      "If you have any more questions or need further information, feel free to ask!\n",
      "Generated Response:\n",
      "It looks like you didn't include a specific question or comment in your last message. If you have anything specific you'd like to know or discuss, feel free to let me know. I'm here to help!\n",
      "Generated Response:\n",
      "Sure, Rohith! Here's a basic guide to making cheese at home. We'll start with a simple cheese, such as ricotta or mozzarella. For this example, let's go with mozzarella, as it's a popular choice and relatively easy to make.\n",
      "\n",
      "### Ingredients\n",
      "- 1 gallon of whole milk (not ultra-pasteurized)\n",
      "- 1 1/4 teaspoons of citric acid dissolved in 1/4 cup of cool, non-chlorinated water\n",
      "- 1/4 teaspoon of liquid rennet dissolved in 1/4 cup of cool, non-chlorinated water\n",
      "- 1 to 2 teaspoons of cheese salt (or non-iodized salt)\n",
      "\n",
      "### Equipment\n",
      "- Large pot (stainless steel or enamel-coated)\n",
      "- Thermometer (preferably digital)\n",
      "- Slotted spoon\n",
      "- Long knife\n",
      "- Microwave-safe bowl\n",
      "- Cheesecloth\n",
      "\n",
      "### Instructions\n",
      "\n",
      "1. **Prepare the Ingredients**\n",
      "   - Dissolve the citric acid in 1/4 cup of cool, non-chlorinated water.\n",
      "   - Dissolve the liquid rennet in 1/4 cup of cool, non-chlorinated water.\n",
      "\n",
      "2. **Heat the Milk**\n",
      "   - Pour the milk into the large pot.\n",
      "   - Add the dissolved citric acid to the milk and stir gently.\n",
      "   - Heat the milk slowly to 90°F (32°C), stirring occasionally.\n",
      "\n",
      "3. **Add the Rennet**\n",
      "   - Once the milk reaches 90°F, remove the pot from heat.\n",
      "   - Add the dissolved rennet to the milk and stir gently in an up-and-down motion for about 30 seconds.\n",
      "\n",
      "4. **Let the Milk Set**\n",
      "   - Cover the pot and let it sit undisturbed for 5 to 10 minutes, until the milk sets and forms a firm curd. The curd should have a consistency similar to soft tofu.\n",
      "\n",
      "5. **Cut the Curds**\n",
      "   - Once the curd is firm, cut it into 1/2-inch cubes using a long knife. Make sure to cut all the way to the bottom of the pot.\n",
      "\n",
      "6. **Heat the Curds**\n",
      "   - Place the pot back on the stove and heat the curds to 105°F (40°C), stirring gently to prevent the curds from breaking up too much. This should take about 5 minutes.\n",
      "\n",
      "7. **Drain the Curds**\n",
      "   - Once the curds reach 105°F, remove the pot from the heat.\n",
      "   - Using a slotted spoon, transfer the curds to a microwave-safe bowl, leaving the whey behind.\n",
      "\n",
      "8. **Microwave the Curds**\n",
      "   - Microwave the curds for 1 minute. Drain off any excess whey.\n",
      "   - Gently fold and press the curds together to help expel more whey. Microwave for another 30 seconds if needed.\n",
      "   - Add the cheese salt and knead it into the curds.\n",
      "\n",
      "9. **Stretch the Cheese**\n",
      "   - Continue to knead and stretch the curds until they become smooth and elastic. If the curds cool down too much, microwave them for another 30 seconds to keep them pliable.\n",
      "   - Stretch the cheese by pulling it out and folding it back on itself until it has a shiny, smooth texture.\n",
      "\n",
      "10. **Shape the Cheese**\n",
      "    - Once the cheese is stretchy and smooth, shape it into a ball or log.\n",
      "    - Place the cheese in a bowl of cold water or an ice bath to cool and firm up.\n",
      "\n",
      "11. **Store the Cheese**\n",
      "    - After the cheese has cooled, wrap it in plastic wrap or place it in an airtight container.\n",
      "    - Store it in the refrigerator and consume within a week.\n",
      "\n",
      "### Tips\n",
      "- Make sure all your equipment is clean and sanitized before starting.\n",
      "- Use non-chlorinated water to avoid any interference with the rennet and culture.\n",
      "- Practice makes perfect! The more you make cheese, the better you'll get at judging the correct temperatures and textures.\n",
      "\n",
      "Enjoy your homemade mozzarella cheese, Rohith! If you have any more questions or need further assistance, feel free to ask.\n"
     ]
    }
   ],
   "source": [
    "interact_with_ai()"
   ]
  }
 ],
 "metadata": {
  "kernelspec": {
   "display_name": "venv",
   "language": "python",
   "name": "python3"
  },
  "language_info": {
   "codemirror_mode": {
    "name": "ipython",
    "version": 3
   },
   "file_extension": ".py",
   "mimetype": "text/x-python",
   "name": "python",
   "nbconvert_exporter": "python",
   "pygments_lexer": "ipython3",
   "version": "3.11.9"
  }
 },
 "nbformat": 4,
 "nbformat_minor": 2
}
